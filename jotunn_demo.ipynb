{
 "cells": [
  {
   "cell_type": "markdown",
   "id": "a8cf3ce0",
   "metadata": {},
   "source": [
    "# Connect to Jötunn cluster"
   ]
  },
  {
   "cell_type": "code",
   "execution_count": 92,
   "id": "d8cb98be",
   "metadata": {},
   "outputs": [],
   "source": [
    "import ipyparallel as ipp\n",
    "# Need to have sshserver as we otherwise get a timeout error\n",
    "cli = ipp.Client(profile=\"jotunn\", sshserver='sigurdur14@jotunn.rhi.hi.is')\n"
   ]
  },
  {
   "cell_type": "code",
   "execution_count": 93,
   "id": "ddc553e1",
   "metadata": {},
   "outputs": [
    {
     "data": {
      "text/plain": [
       "<DirectView [0, 1]>"
      ]
     },
     "execution_count": 93,
     "metadata": {},
     "output_type": "execute_result"
    }
   ],
   "source": [
    "# We can see all engines\n",
    "# We can get each engine\n",
    "cli[:]"
   ]
  },
  {
   "cell_type": "code",
   "execution_count": 94,
   "id": "8e89561c",
   "metadata": {},
   "outputs": [
    {
     "data": {
      "text/plain": [
       "<AsyncResult(execute): pending>"
      ]
     },
     "execution_count": 94,
     "metadata": {},
     "output_type": "execute_result"
    }
   ],
   "source": [
    "# We can call just one engine and display the output\n",
    "dr1 = cli[0].execute(\"print(2+3)\")\n",
    "dr1"
   ]
  },
  {
   "cell_type": "code",
   "execution_count": 95,
   "id": "8a1c490b",
   "metadata": {},
   "outputs": [
    {
     "name": "stdout",
     "output_type": "stream",
     "text": [
      "5\n"
     ]
    }
   ],
   "source": [
    "dr1.display_outputs()"
   ]
  },
  {
   "cell_type": "code",
   "execution_count": 96,
   "id": "9341a6d3",
   "metadata": {},
   "outputs": [
    {
     "data": {
      "text/plain": [
       "<DirectView all>"
      ]
     },
     "execution_count": 96,
     "metadata": {},
     "output_type": "execute_result"
    }
   ],
   "source": [
    "# Client gets the direct_view()\n",
    "dv = cli.direct_view()\n",
    "dv"
   ]
  },
  {
   "cell_type": "markdown",
   "id": "ca08b611",
   "metadata": {},
   "source": [
    "##  Run some commands in parallel"
   ]
  },
  {
   "cell_type": "code",
   "execution_count": 97,
   "id": "4162324b",
   "metadata": {},
   "outputs": [
    {
     "data": {
      "text/plain": [
       "<AsyncResult(execute): pending>"
      ]
     },
     "execution_count": 97,
     "metadata": {},
     "output_type": "execute_result"
    }
   ],
   "source": [
    "sk1 = dv.execute(\"print(2+2)\")\n",
    "sk1"
   ]
  },
  {
   "cell_type": "code",
   "execution_count": 98,
   "id": "cbdddd63",
   "metadata": {},
   "outputs": [
    {
     "name": "stdout",
     "output_type": "stream",
     "text": [
      "[stdout:0] \n",
      "4\n",
      "[stdout:1] \n",
      "4\n"
     ]
    }
   ],
   "source": [
    "sk1.display_outputs()"
   ]
  },
  {
   "cell_type": "markdown",
   "id": "46f71433",
   "metadata": {},
   "source": [
    "## MPI: Get process rank and number of total processes"
   ]
  },
  {
   "cell_type": "code",
   "execution_count": 99,
   "id": "143ca5b3",
   "metadata": {},
   "outputs": [
    {
     "data": {
      "text/plain": [
       "[stdout:0] Hello World from rank 0. total ranks=2\n"
      ]
     },
     "metadata": {},
     "output_type": "display_data"
    },
    {
     "data": {
      "text/plain": [
       "[stdout:1] Hello World from rank 1. total ranks=2\n"
      ]
     },
     "metadata": {},
     "output_type": "display_data"
    }
   ],
   "source": [
    "%%px\n",
    "from mpi4py import MPI\n",
    "comm = MPI.COMM_WORLD\n",
    "print(f\"Hello World from rank {comm.Get_rank()}. total ranks={comm.Get_size()}\")"
   ]
  },
  {
   "cell_type": "markdown",
   "id": "8478e33d",
   "metadata": {},
   "source": [
    "## Progress bars for running these MPI commands.\n",
    "Times each engine and the total"
   ]
  },
  {
   "cell_type": "code",
   "execution_count": 100,
   "id": "f97b67cd",
   "metadata": {},
   "outputs": [
    {
     "name": "stdout",
     "output_type": "stream",
     "text": [
      "%px:   0%|          | 0/2 [00:00<?, ?tasks/s]"
     ]
    },
    {
     "data": {
      "text/plain": [
       "[stdout:0] jotunn.rhi.hi.is\n"
      ]
     },
     "metadata": {},
     "output_type": "display_data"
    },
    {
     "data": {
      "text/plain": [
       "[stdout:1] jotunn.rhi.hi.is\n"
      ]
     },
     "metadata": {},
     "output_type": "display_data"
    },
    {
     "name": "stdout",
     "output_type": "stream",
     "text": [
      "%px:   0%|          | 0/2 [00:00<?, ?tasks/s]"
     ]
    },
    {
     "data": {
      "text/plain": [
       "[output:0]"
      ]
     },
     "metadata": {},
     "output_type": "display_data"
    },
    {
     "data": {
      "application/vnd.jupyter.widget-view+json": {
       "model_id": "1291b76de5c24984938cd9b52f3cdbb3",
       "version_major": 2,
       "version_minor": 0
      },
      "text/plain": [
       "  0%|          | 0/25 [00:00<?, ?it/s]"
      ]
     },
     "metadata": {
      "engine": 0
     },
     "output_type": "display_data"
    },
    {
     "data": {
      "text/plain": [
       "[output:1]"
      ]
     },
     "metadata": {},
     "output_type": "display_data"
    },
    {
     "data": {
      "application/vnd.jupyter.widget-view+json": {
       "model_id": "a376f82d936d43a289a484e0d82ccb9f",
       "version_major": 2,
       "version_minor": 0
      },
      "text/plain": [
       "  0%|          | 0/25 [00:00<?, ?it/s]"
      ]
     },
     "metadata": {
      "engine": 1
     },
     "output_type": "display_data"
    },
    {
     "name": "stdout",
     "output_type": "stream",
     "text": [
      "%px: 100%|██████████| 2/2 [00:02<00:00,  1.24s/tasks]\n"
     ]
    }
   ],
   "source": [
    "%%px --progress-after 0\n",
    "from mpi4py import MPI\n",
    "comm = MPI.COMM_WORLD\n",
    "\n",
    "import random\n",
    "import time\n",
    "from tqdm.notebook import tqdm\n",
    "\n",
    "print(MPI.Get_processor_name(), flush=True)\n",
    "scale  = 0.1 * (1+comm.Get_rank())\n",
    "for i in tqdm(range(25)):\n",
    "    time.sleep(scale * random.random())\n"
   ]
  },
  {
   "cell_type": "code",
   "execution_count": 101,
   "id": "a1af78fb",
   "metadata": {},
   "outputs": [],
   "source": [
    "%px a=5"
   ]
  },
  {
   "cell_type": "code",
   "execution_count": 102,
   "id": "1ac7b415",
   "metadata": {},
   "outputs": [
    {
     "data": {
      "text/plain": [
       "[stdout:0] 5\n"
      ]
     },
     "metadata": {},
     "output_type": "display_data"
    },
    {
     "data": {
      "text/plain": [
       "[stdout:1] 5\n"
      ]
     },
     "metadata": {},
     "output_type": "display_data"
    }
   ],
   "source": [
    "%px print(a)"
   ]
  },
  {
   "cell_type": "code",
   "execution_count": 103,
   "id": "746d44be",
   "metadata": {},
   "outputs": [],
   "source": [
    "r = cli.direct_view()"
   ]
  },
  {
   "cell_type": "code",
   "execution_count": 104,
   "id": "0148d80b",
   "metadata": {
    "scrolled": false
   },
   "outputs": [
    {
     "data": {
      "text/plain": [
       "<AsyncResult(execute): pending>"
      ]
     },
     "execution_count": 104,
     "metadata": {},
     "output_type": "execute_result"
    }
   ],
   "source": [
    "r.execute(\"print(2)\")"
   ]
  },
  {
   "cell_type": "code",
   "execution_count": 105,
   "id": "73092c32",
   "metadata": {},
   "outputs": [
    {
     "name": "stdout",
     "output_type": "stream",
     "text": [
      "[stdout:0] \n",
      "2\n",
      "[stdout:1] \n",
      "2\n"
     ]
    }
   ],
   "source": [
    "_.display_outputs()"
   ]
  },
  {
   "cell_type": "code",
   "execution_count": 106,
   "id": "2024edaf",
   "metadata": {},
   "outputs": [],
   "source": [
    "%px import numpy as np; kka = np.array([1,2,3,4,5])"
   ]
  },
  {
   "cell_type": "code",
   "execution_count": 107,
   "id": "b94b4fa6",
   "metadata": {},
   "outputs": [
    {
     "data": {
      "text/plain": [
       "[stdout:0] [1 2 3 4 5]\n"
      ]
     },
     "metadata": {},
     "output_type": "display_data"
    },
    {
     "data": {
      "text/plain": [
       "[stdout:1] [1 2 3 4 5]\n"
      ]
     },
     "metadata": {},
     "output_type": "display_data"
    }
   ],
   "source": [
    "%px print(kka)"
   ]
  },
  {
   "cell_type": "code",
   "execution_count": 108,
   "id": "7e43302c",
   "metadata": {},
   "outputs": [
    {
     "data": {
      "text/plain": [
       "[stdout:0] /home/sigurdur14\n",
       "['.bash_logout', '.bash_profile', '.bashrc', '.ssh', '.bash_history', '.emacs.d', 'pr.cpp', 'nohup.out', 'mylog.out', 'a.out', 'lab2', '.python_history', '.cache', '.local', '.lesshst', 'launch-python-for-ipy-ssh~', '.ipython', 'launch-python-for-ipy-ssh', '=1.0.1', 'jotunn_pip3_requirements.txt']\n"
      ]
     },
     "metadata": {},
     "output_type": "display_data"
    },
    {
     "data": {
      "text/plain": [
       "[stdout:1] /home/sigurdur14\n",
       "['.bash_logout', '.bash_profile', '.bashrc', '.ssh', '.bash_history', '.emacs.d', 'pr.cpp', 'nohup.out', 'mylog.out', 'a.out', 'lab2', '.python_history', '.cache', '.local', '.lesshst', 'launch-python-for-ipy-ssh~', '.ipython', 'launch-python-for-ipy-ssh', '=1.0.1', 'jotunn_pip3_requirements.txt']\n"
      ]
     },
     "metadata": {},
     "output_type": "display_data"
    }
   ],
   "source": [
    "%%px\n",
    "import os\n",
    "print(os.getcwd())\n",
    "print(os.listdir(os.getcwd()))"
   ]
  },
  {
   "cell_type": "code",
   "execution_count": 109,
   "id": "cc842512",
   "metadata": {},
   "outputs": [],
   "source": [
    "%%px\n",
    "\n",
    "def mpi_example():\n",
    "    from mpi4py import MPI\n",
    "    comm = MPI.COMM_WORLD\n",
    "    return f\"Hello World from rank{comm.Get_rank()}. total ranks={comm.Get_size()}\"\n"
   ]
  },
  {
   "cell_type": "code",
   "execution_count": null,
   "id": "fce29ee3",
   "metadata": {},
   "outputs": [],
   "source": []
  },
  {
   "cell_type": "code",
   "execution_count": 110,
   "id": "aca6909f",
   "metadata": {},
   "outputs": [],
   "source": [
    "bc = cli.broadcast_view()"
   ]
  },
  {
   "cell_type": "code",
   "execution_count": 111,
   "id": "350f1171",
   "metadata": {},
   "outputs": [],
   "source": [
    "test = bc.execute(\"print(2)\")"
   ]
  },
  {
   "cell_type": "code",
   "execution_count": 112,
   "id": "f7525a51",
   "metadata": {},
   "outputs": [
    {
     "name": "stdout",
     "output_type": "stream",
     "text": [
      "[stdout:0] \n",
      "2\n",
      "[stdout:1] \n",
      "2\n"
     ]
    }
   ],
   "source": [
    "test.display_outputs()"
   ]
  },
  {
   "cell_type": "markdown",
   "id": "d6f15b65",
   "metadata": {},
   "source": [
    "## MPI: only targeting one engine at a time"
   ]
  },
  {
   "cell_type": "code",
   "execution_count": 113,
   "id": "d008a7f3",
   "metadata": {},
   "outputs": [
    {
     "data": {
      "text/plain": [
       "[stdout:0] Hello World from rank 0. total ranks=2\n"
      ]
     },
     "metadata": {},
     "output_type": "display_data"
    }
   ],
   "source": [
    "%%px --targets 0\n",
    "from mpi4py import MPI\n",
    "comm = MPI.COMM_WORLD\n",
    "print(f\"Hello World from rank {comm.Get_rank()}. total ranks={comm.Get_size()}\")"
   ]
  },
  {
   "cell_type": "code",
   "execution_count": 114,
   "id": "76cc7c24",
   "metadata": {},
   "outputs": [
    {
     "data": {
      "text/plain": [
       "[stdout:1] Hello World from rank 1. total ranks=2\n"
      ]
     },
     "metadata": {},
     "output_type": "display_data"
    }
   ],
   "source": [
    "%%px --targets 1\n",
    "from mpi4py import MPI\n",
    "comm = MPI.COMM_WORLD\n",
    "print(f\"Hello World from rank {comm.Get_rank()}. total ranks={comm.Get_size()}\")"
   ]
  },
  {
   "cell_type": "markdown",
   "id": "69b76b6f",
   "metadata": {},
   "source": [
    "## Direct_view() get hostname\n",
    "We only have ssh login access to one machine on jotunn to start engines\n",
    "\n",
    "so it should be host jotunn.rhi.hi.is"
   ]
  },
  {
   "cell_type": "code",
   "execution_count": 115,
   "id": "5f68816f",
   "metadata": {},
   "outputs": [
    {
     "data": {
      "text/plain": [
       "{0: 'jotunn.rhi.hi.is', 1: 'jotunn.rhi.hi.is'}"
      ]
     },
     "execution_count": 115,
     "metadata": {},
     "output_type": "execute_result"
    }
   ],
   "source": [
    "import socket\n",
    "engine_hosts = cli.direct_view().apply_async(socket.gethostname).get_dict()\n",
    "engine_hosts"
   ]
  },
  {
   "cell_type": "code",
   "execution_count": 117,
   "id": "d12f1f6f",
   "metadata": {},
   "outputs": [
    {
     "data": {
      "text/plain": [
       "{'jotunn.rhi.hi.is': [0, 1]}"
      ]
     },
     "execution_count": 117,
     "metadata": {},
     "output_type": "execute_result"
    }
   ],
   "source": [
    "host_engines = {}\n",
    "\n",
    "for eid, host in engine_hosts.items():\n",
    "    if host not in host_engines:\n",
    "        host_engines[host] = []\n",
    "    host_engines[host].append(eid)\n",
    "\n",
    "host_engines"
   ]
  },
  {
   "cell_type": "code",
   "execution_count": null,
   "id": "0f11d8aa",
   "metadata": {},
   "outputs": [],
   "source": []
  },
  {
   "cell_type": "code",
   "execution_count": null,
   "id": "1e9e454f",
   "metadata": {},
   "outputs": [],
   "source": []
  },
  {
   "cell_type": "code",
   "execution_count": null,
   "id": "ef3f8835",
   "metadata": {},
   "outputs": [],
   "source": []
  }
 ],
 "metadata": {
  "kernelspec": {
   "display_name": "Python [conda env:.conda-ipytest]",
   "language": "python",
   "name": "conda-env-.conda-ipytest-py"
  },
  "language_info": {
   "codemirror_mode": {
    "name": "ipython",
    "version": 3
   },
   "file_extension": ".py",
   "mimetype": "text/x-python",
   "name": "python",
   "nbconvert_exporter": "python",
   "pygments_lexer": "ipython3",
   "version": "3.8.12"
  }
 },
 "nbformat": 4,
 "nbformat_minor": 5
}
